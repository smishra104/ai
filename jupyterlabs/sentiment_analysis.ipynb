{
 "cells": [
  {
   "cell_type": "code",
   "execution_count": 1,
   "id": "e06da8ef-14e9-4ad6-ba7f-1d2c84d83838",
   "metadata": {},
   "outputs": [],
   "source": [
    "import os\n",
    "import openai\n",
    "from dotenv import load_dotenv, find_dotenv\n",
    "\n",
    "load_dotenv(find_dotenv(), override=True)\n",
    "openai.api_key = os.getenv('OPEN_API_KEY')"
   ]
  },
  {
   "cell_type": "code",
   "execution_count": 2,
   "id": "623d1573-384a-4ffb-ad62-32fb2b01b7e3",
   "metadata": {},
   "outputs": [
    {
     "name": "stdout",
     "output_type": "stream",
     "text": [
      "Why did Yoda always bring a ladder?\n",
      "\n",
      "To reach the higher force!\n"
     ]
    }
   ],
   "source": [
    "from openai import OpenAI\n",
    "client = OpenAI()\n",
    "response = client.chat.completions.create(\n",
    "    model = 'gpt-4o',\n",
    "    messages = [\n",
    "        {'role': 'system', 'content': 'You are yoda.'},\n",
    "        {'role': 'user', 'content': 'Write a joke'}\n",
    "    ]\n",
    ")\n",
    "for c in response.choices:\n",
    "    print(c.message.content)"
   ]
  },
  {
   "cell_type": "code",
   "execution_count": 3,
   "id": "4cc4603f-2b75-43be-a198-b64c48e2d3da",
   "metadata": {},
   "outputs": [],
   "source": [
    "def get_sentiment(input, choices):\n",
    "    system_prompt = f'''You are good emotional assistant. Evaluate the input and classify it into the appropriate \n",
    "    emotion from the following choices: {choices}. Return the emotion only. I need only one emotion'''\n",
    "    response = client.chat.completions.create(\n",
    "        model = 'gpt-3.5-turbo',\n",
    "        messages = [\n",
    "            {'role': 'system', 'content': system_prompt},\n",
    "            {'role': 'user', 'content': input}\n",
    "        ],\n",
    "        temperature = 0\n",
    "    )\n",
    "    # print(response)\n",
    "    return response.choices[0].message.content\n"
   ]
  },
  {
   "cell_type": "code",
   "execution_count": 4,
   "id": "d8150259-c275-4dbb-bb76-9544cfe7d2ef",
   "metadata": {},
   "outputs": [],
   "source": [
    "choices = 'positive, negative, uncomfortable, sad, lost, tired, happy'\n",
    "def find_sentiment(prompt):\n",
    "    ch = get_sentiment(prompt, choices)\n",
    "    print(prompt + ' --> ' + ch)"
   ]
  },
  {
   "cell_type": "code",
   "execution_count": 5,
   "id": "2f0f1302-c554-4f55-baab-73323ddddce5",
   "metadata": {},
   "outputs": [
    {
     "name": "stdout",
     "output_type": "stream",
     "text": [
      "It is very very hot day today --> uncomfortable\n",
      "The product was awkward to use, but increased my productivity --> positive\n",
      "I was expecting the soda to be cold --> uncomfortable\n",
      "In the movie the characters were built up rather slowly. and the climax was magnificent --> positive\n"
     ]
    }
   ],
   "source": [
    "find_sentiment(\"It is very very hot day today\")\n",
    "find_sentiment(\"The product was awkward to use, but increased my productivity\")\n",
    "find_sentiment(\"I was expecting the soda to be cold\")\n",
    "find_sentiment(\"In the movie the characters were built up rather slowly. and the climax was magnificent\")\n"
   ]
  }
 ],
 "metadata": {
  "kernelspec": {
   "display_name": "Python 3 (ipykernel)",
   "language": "python",
   "name": "python3"
  },
  "language_info": {
   "codemirror_mode": {
    "name": "ipython",
    "version": 3
   },
   "file_extension": ".py",
   "mimetype": "text/x-python",
   "name": "python",
   "nbconvert_exporter": "python",
   "pygments_lexer": "ipython3",
   "version": "3.12.2"
  }
 },
 "nbformat": 4,
 "nbformat_minor": 5
}
